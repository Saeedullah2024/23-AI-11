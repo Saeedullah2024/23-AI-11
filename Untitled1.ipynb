{
  "nbformat": 4,
  "nbformat_minor": 0,
  "metadata": {
    "colab": {
      "provenance": []
    },
    "kernelspec": {
      "name": "python3",
      "display_name": "Python 3"
    },
    "language_info": {
      "name": "python"
    }
  },
  "cells": [
    {
      "cell_type": "code",
      "execution_count": 4,
      "metadata": {
        "colab": {
          "base_uri": "https://localhost:8080/"
        },
        "id": "_smfj8AusFZw",
        "outputId": "f1e53a5f-4b41-4315-bf90-7f9cf322c268"
      },
      "outputs": [
        {
          "output_type": "stream",
          "name": "stdout",
          "text": [
            "True\n"
          ]
        }
      ],
      "source": [
        "def check(pattern , s):\n",
        "  words = s.split() #it will break the sentense (s) into words\n",
        "  if len(pattern) != len(words): #it will check the len of both characters and words\n",
        "    return False\n",
        "\n",
        "  asci_and_word = {} #it will store charater asci value and the word {15 : \"dog\"}\n",
        "  word_and_asci = {} #it will store the word and asci value {\"dog\" : 15}\n",
        "  for char , word in zip(pattern , s): #it will zip make tuple of (a , \"dog\")\n",
        "    asci_value = ord(char)\n",
        "    if asci_value in asci_and_word:\n",
        "      if asci_and_word[asci_value] != word:\n",
        "        return False\n",
        "      else:\n",
        "        if word in word_and_asci:\n",
        "\n",
        "          return False\n",
        "    asci_and_word[asci_value] = word\n",
        "    word_and_asci[word] = asci_value\n",
        "    return True\n",
        "pattern = \"abba\"\n",
        "s = \"dog cat cat dog\"\n",
        "result = check(pattern , s)\n",
        "print(result)"
      ]
    }
  ]
}